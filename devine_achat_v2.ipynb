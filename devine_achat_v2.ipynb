{
 "cells": [
  {
   "cell_type": "code",
   "execution_count": 3,
   "id": "ccec0323-b973-4b08-a80e-aabd15749728",
   "metadata": {},
   "outputs": [],
   "source": [
    "import seaborn as sns\n",
    "import pandas as pd\n",
    "import matplotlib.pyplot as plt\n",
    "import numpy as np\n",
    "\n",
    "from sklearn.model_selection import train_test_split\n",
    "from sklearn.linear_model import LogisticRegression\n",
    "from sklearn.metrics import accuracy_score,confusion_matrix"
   ]
  },
  {
   "cell_type": "code",
   "execution_count": 47,
   "id": "fd895c5e-f7b7-48db-9e1b-36872faa888f",
   "metadata": {},
   "outputs": [
    {
     "data": {
      "image/png": "[encoded data removed]",
      "text/plain": [
       "<Figure size 640x480 with 1 Axes>"
      ]
     },
     "metadata": {},
     "output_type": "display_data"
    }
   ],
   "source": [
    "df_base = pd.read_csv(\"profils_achat.csv\")\n",
    "df_hist = pd.read_csv(\"historique_devine_achat.csv\")\n",
    "\n",
    "df_total = pd.concat([df_base, df_hist], ignore_index=True)\n",
    "\n",
    "sns.scatterplot(x=\"Age\",y=\"Salaire\",hue=\"Acheté\",data = df_total)\n",
    "plt.show()"
   ]
  },
  {
   "cell_type": "code",
   "execution_count": 56,
   "id": "e6f52a7d-cd91-4d9f-bda7-ff315d4d4120",
   "metadata": {},
   "outputs": [
    {
     "name": "stdin",
     "output_type": "stream",
     "text": [
      "\n",
      "Entrez l'âge :  46\n",
      "\n",
      "Entrez le salaire :  34000\n"
     ]
    },
    {
     "name": "stdout",
     "output_type": "stream",
     "text": [
      "\n",
      "Achètera\n"
     ]
    },
    {
     "name": "stdin",
     "output_type": "stream",
     "text": [
      "\n",
      "Ce client a-t-il acheté ? 1\n",
      "\n",
      "Voulez-vous entrer un autre profil ? 1 pour oui, 0 pour non :  1\n",
      "\n",
      "Entrez l'âge :  34\n",
      "\n",
      "Entrez le salaire :  15000\n"
     ]
    },
    {
     "name": "stdout",
     "output_type": "stream",
     "text": [
      "\n",
      "N'achètera pas\n"
     ]
    },
    {
     "name": "stdin",
     "output_type": "stream",
     "text": [
      "\n",
      "Ce client a-t-il acheté ? 1\n",
      "\n",
      "Voulez-vous entrer un autre profil ? 1 pour oui, 0 pour non :  0\n"
     ]
    },
    {
     "name": "stdout",
     "output_type": "stream",
     "text": [
      "\n",
      "Merci d'avoir utilisé notre outil\n",
      "\n"
     ]
    }
   ],
   "source": [
    "import csv\n",
    "\n",
    "def devine_achat_v2():\n",
    "\n",
    "    rejouer = 1\n",
    "    while rejouer == 1 :\n",
    "        while True:\n",
    "            a = input(\"\\nEntrez l'âge : \")\n",
    "            if a.isdigit() :\n",
    "                a = int(a)\n",
    "                if 18<a<110 :\n",
    "                    b = input(\"\\nEntrez le salaire : \")\n",
    "                    if b.isdigit() :\n",
    "                        b = int(b)\n",
    "                        break\n",
    "                    else:\n",
    "                        print(\"\\nVeuillez entrer un nombre\")\n",
    "                else :\n",
    "                    print(\"\\nVeuillez entrer un âge valide\")\n",
    "            else:\n",
    "                print(\"\\nVeuillez entrer un nombre\")\n",
    "    \n",
    "        new_pred = pd.DataFrame([[a, b]], columns=[\"Age\", \"Salaire\"])\n",
    "    \n",
    "        if ia.predict(new_pred) == 0:\n",
    "          print(\"\\nN'achètera pas\")\n",
    "        else:\n",
    "          print(\"\\nAchètera\")\n",
    "    \n",
    "        while True :\n",
    "            reponse = input(\"\\nCe client a-t-il acheté ?\")\n",
    "            if reponse in [\"0\",\"1\"]:\n",
    "                break\n",
    "            else :\n",
    "                print (\"\\nEntrez uniquement 1 ou 0 svp\")\n",
    "    \n",
    "        with open(\"historique_devine_achat.csv\",\"a\",newline=\"\") as f:\n",
    "            writer = csv.writer(f)\n",
    "            writer.writerow([a,b,int(reponse)])\n",
    "    \n",
    "    \n",
    "    \n",
    "        while True:\n",
    "            choix = input(\"\\nVoulez-vous entrer un autre profil ? 1 pour oui, 0 pour non : \")\n",
    "            if choix == \"1\":\n",
    "                break\n",
    "            else:\n",
    "                print(\"\\nMerci d'avoir utilisé notre outil\\n\")\n",
    "                return \n",
    "    \n",
    "    \n",
    "        df_base = pd.read_csv(\"profils_achat.csv\")\n",
    "        df_hist = pd.read_csv(\"historique_devine_achat.csv\")\n",
    "        \n",
    "        df_total = pd.concat([df_base, df_hist], ignore_index=True)\n",
    "    \n",
    "if __name__ == \"__main__\":\n",
    "    devine_achat_v2()\n",
    "    "
   ]
  },
  {
   "cell_type": "code",
   "execution_count": null,
   "id": "b7dfc69c-f87f-43c7-8d27-82eb72061beb",
   "metadata": {},
   "outputs": [],
   "source": []
  }
 ],
 "metadata": {
  "kernelspec": {
   "display_name": "Python [conda env:base] *",
   "language": "python",
   "name": "conda-base-py"
  },
  "language_info": {
   "codemirror_mode": {
    "name": "ipython",
    "version": 3
   },
   "file_extension": ".py",
   "mimetype": "text/x-python",
   "name": "python",
   "nbconvert_exporter": "python",
   "pygments_lexer": "ipython3",
   "version": "3.12.7"
  }
 },
 "nbformat": 4,
 "nbformat_minor": 5
}
